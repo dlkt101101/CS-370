{
  "cells": [
    {
      "cell_type": "markdown",
      "metadata": {
        "id": "view-in-github",
        "colab_type": "text"
      },
      "source": [
        "<a href=\"https://colab.research.google.com/github/dlkt101101/CS-370/blob/main/a1q6.ipynb\" target=\"_parent\"><img src=\"https://colab.research.google.com/assets/colab-badge.svg\" alt=\"Open In Colab\"/></a>"
      ]
    },
    {
      "cell_type": "markdown",
      "metadata": {
        "id": "_hrT83I1z6za"
      },
      "source": [
        "# A1-Q6: Nickname Parametric Spline"
      ]
    },
    {
      "cell_type": "code",
      "execution_count": null,
      "metadata": {
        "id": "fkkWUbtoz6zg"
      },
      "outputs": [],
      "source": [
        "import numpy as np\n",
        "from scipy.interpolate import make_interp_spline\n",
        "import matplotlib.pyplot as plt"
      ]
    },
    {
      "cell_type": "code",
      "execution_count": null,
      "metadata": {
        "id": "ZdIyuwi2z6zl"
      },
      "outputs": [],
      "source": []
    },
    {
      "cell_type": "markdown",
      "metadata": {
        "id": "GdzHqXQbz6zm"
      },
      "source": [
        "## (a) Write your nickname and choose points"
      ]
    },
    {
      "cell_type": "markdown",
      "metadata": {
        "id": "QlHcuy-Dz6zo"
      },
      "source": [
        "## (b) Hardcode interpolation points"
      ]
    },
    {
      "cell_type": "code",
      "execution_count": null,
      "metadata": {
        "id": "IUXlrGPhz6zq"
      },
      "outputs": [],
      "source": [
        "# You can create 2 lists containing arrays of points\n",
        "sx = []\n",
        "sy = []\n",
        "# Then add a segment using\n",
        "#  sx.append( np.array([...bunch of x-values...]) ), etc.\n",
        "#  sy.append( np.array([...bunch of y-values...]) ), etc.\n"
      ]
    },
    {
      "cell_type": "markdown",
      "metadata": {
        "id": "IUesQG2pz6zs"
      },
      "source": [
        "## (c) `ParametricSpline`"
      ]
    },
    {
      "cell_type": "code",
      "execution_count": null,
      "metadata": {
        "id": "dl-xYuc3z6zt"
      },
      "outputs": [],
      "source": [
        "def ParametricSpline(Sx,Sy):\n",
        "    '''\n",
        "     x_cs, y_cs, t = ParametricSpline(Sx,Sy)\n",
        "\n",
        "       Takes an array of x- and y-values, and returns a parametric\n",
        "       cubic spline in the form of two piecewise-cubic data structures\n",
        "       (one for the x-component and one for the y-component), as well as\n",
        "       the corresponding parameter values.\n",
        "\n",
        "       The splines use natural boundary conditions.\n",
        "\n",
        "       Input:\n",
        "        Sx   array of x-values\n",
        "        Sy   array of y-values\n",
        "\n",
        "       Output:\n",
        "        x_cs  function that evaluates the cubic spline for x-component\n",
        "        y_cs  function that evaluates the cubic spline for y-component\n",
        "        t     array of parameter values used for the splines\n",
        "              (pseudo-archlength)\n",
        "\n",
        "       Note that x_cs(t) and y_cs(t) give Sx and Sy, respectively.\n",
        "   '''\n",
        "    # These lines are just placeholders... replace them\n",
        "    x_cs = lambda t:[0]\n",
        "    y_cs = lambda t:[0]\n",
        "    t = np.zeros_like(Sx)\n",
        "\n",
        "    # === YOUR CODE HERE ===\n",
        "\n",
        "    return x_cs, y_cs, t"
      ]
    },
    {
      "cell_type": "markdown",
      "metadata": {
        "id": "_bDac343z6zw"
      },
      "source": [
        "## (d) Find parametric splines for each segment"
      ]
    },
    {
      "cell_type": "code",
      "execution_count": null,
      "metadata": {
        "id": "pr3mdDOez6zz"
      },
      "outputs": [],
      "source": [
        "#=== YOUR CODE HERE ===\n"
      ]
    },
    {
      "cell_type": "markdown",
      "metadata": {
        "id": "rZMArDZHz6z1"
      },
      "source": [
        "## (e) Plot the segments"
      ]
    },
    {
      "cell_type": "code",
      "execution_count": null,
      "metadata": {
        "id": "JaI2lLF9z6z2"
      },
      "outputs": [],
      "source": [
        "#===== YOUR CODE HERE =====\n"
      ]
    },
    {
      "cell_type": "code",
      "execution_count": null,
      "metadata": {
        "id": "B2oTesYmz6z3"
      },
      "outputs": [],
      "source": []
    }
  ],
  "metadata": {
    "kernelspec": {
      "display_name": "cs370",
      "language": "python",
      "name": "python3"
    },
    "language_info": {
      "codemirror_mode": {
        "name": "ipython",
        "version": 3
      },
      "file_extension": ".py",
      "mimetype": "text/x-python",
      "name": "python",
      "nbconvert_exporter": "python",
      "pygments_lexer": "ipython3",
      "version": "3.11.13"
    },
    "colab": {
      "provenance": [],
      "include_colab_link": true
    }
  },
  "nbformat": 4,
  "nbformat_minor": 0
}